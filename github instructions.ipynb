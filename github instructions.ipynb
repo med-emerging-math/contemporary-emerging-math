{
 "cells": [
  {
   "cell_type": "code",
   "execution_count": 12,
   "metadata": {},
   "outputs": [],
   "source": [
    "# Cell magic to run terminal commands in Python. Shift+enter to run a cell.\n",
    "\n",
    "!git remote add origin https://github.com/med-emerging-math/contemporary-emerging-math"
   ]
  },
  {
   "cell_type": "code",
   "execution_count": 13,
   "metadata": {},
   "outputs": [
    {
     "name": "stdout",
     "output_type": "stream",
     "text": [
      "origin\thttps://github.com/med-emerging-math/contemporary-emerging-math (fetch)\r\n",
      "origin\thttps://github.com/med-emerging-math/contemporary-emerging-math (push)\r\n"
     ]
    }
   ],
   "source": [
    "!git remote -v"
   ]
  },
  {
   "cell_type": "code",
   "execution_count": 25,
   "metadata": {},
   "outputs": [
    {
     "name": "stdout",
     "output_type": "stream",
     "text": [
      "Already up-to-date.\r\n"
     ]
    }
   ],
   "source": [
    "# Pull repo to local. Anytime you need to update locally, you can run this cell.\n",
    "\n",
    "! git fetch\n",
    "! git pull"
   ]
  },
  {
   "cell_type": "code",
   "execution_count": null,
   "metadata": {},
   "outputs": [],
   "source": [
    "# Anytime you want to push to github, you can run this cell.\n",
    "\n",
    "! git config --global user.email \"mpawliuk@gmail.com\"\n",
    "! git config --global user.name \"Mike Pawliuk\"\n",
    "\n",
    "! git add *\n",
    "! git commit -m 'Test commit.'\n",
    "! git push"
   ]
  },
  {
   "cell_type": "code",
   "execution_count": null,
   "metadata": {},
   "outputs": [],
   "source": []
  }
 ],
 "metadata": {
  "kernelspec": {
   "display_name": "Python 3",
   "language": "python",
   "name": "python3"
  },
  "language_info": {
   "codemirror_mode": {
    "name": "ipython",
    "version": 3
   },
   "file_extension": ".py",
   "mimetype": "text/x-python",
   "name": "python",
   "nbconvert_exporter": "python",
   "pygments_lexer": "ipython3",
   "version": "3.6.5"
  }
 },
 "nbformat": 4,
 "nbformat_minor": 2
}

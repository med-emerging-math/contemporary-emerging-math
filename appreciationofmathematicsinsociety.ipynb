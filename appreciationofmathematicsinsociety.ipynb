{
 "cells": [
  {
   "cell_type": "markdown",
   "metadata": {},
   "source": [
    "# Introduction\n",
    "\n"
   ]
  },
  {
   "cell_type": "markdown",
   "metadata": {},
   "source": [
    "Ideas for researching your project:\n",
    "\n",
    "<ul>\n",
    "    <li>  </li>\n",
    "    <li>  </li>\n",
    "    <li>  </li>\n",
    "</ul>"
   ]
  },
  {
   "cell_type": "markdown",
   "metadata": {},
   "source": [
    "## Skeleton of a Project\n",
    "\n",
    "In this section, you can get a better idea of the sort of work that would go into your project."
   ]
  },
  {
   "cell_type": "code",
   "execution_count": 93,
   "metadata": {},
   "outputs": [
    {
     "data": {
      "application/vnd.jupyter.widget-view+json": {
       "model_id": "074cdf3166434443b69f6b96b4590b58",
       "version_major": 2,
       "version_minor": 0
      },
      "text/html": [
       "<p>Failed to display Jupyter Widget of type <code>HBox</code>.</p>\n",
       "<p>\n",
       "  If you're reading this message in the Jupyter Notebook or JupyterLab Notebook, it may mean\n",
       "  that the widgets JavaScript is still loading. If this message persists, it\n",
       "  likely means that the widgets JavaScript library is either not installed or\n",
       "  not enabled. See the <a href=\"https://ipywidgets.readthedocs.io/en/stable/user_install.html\">Jupyter\n",
       "  Widgets Documentation</a> for setup instructions.\n",
       "</p>\n",
       "<p>\n",
       "  If you're reading this message in another frontend (for example, a static\n",
       "  rendering on GitHub or <a href=\"https://nbviewer.jupyter.org/\">NBViewer</a>),\n",
       "  it may mean that your frontend doesn't currently support widgets.\n",
       "</p>\n"
      ],
      "text/plain": [
       "HBox(children=(VBox(children=(Button(description='Amrit', layout=Layout(width='100px'), style=ButtonStyle()), Button(description='Bolade', layout=Layout(width='100px'), style=ButtonStyle()), Button(description='Carmen', layout=Layout(width='100px'), style=ButtonStyle()))), VBox(children=(Button(description='Amrit', layout=Layout(width='100px'), style=ButtonStyle()), Button(description='Carmen', layout=Layout(width='100px'), style=ButtonStyle()), Button(description='Bolade', layout=Layout(width='100px'), style=ButtonStyle()))), VBox(children=(Button(description='Bolade', layout=Layout(width='100px'), style=ButtonStyle()), Button(description='Amrit', layout=Layout(width='100px'), style=ButtonStyle()), Button(description='Carmen', layout=Layout(width='100px'), style=ButtonStyle()))), VBox(children=(Button(description='Bolade', layout=Layout(width='100px'), style=ButtonStyle()), Button(description='Carmen', layout=Layout(width='100px'), style=ButtonStyle()), Button(description='Amrit', layout=Layout(width='100px'), style=ButtonStyle()))), VBox(children=(Button(description='Carmen', layout=Layout(width='100px'), style=ButtonStyle()), Button(description='Amrit', layout=Layout(width='100px'), style=ButtonStyle()), Button(description='Bolade', layout=Layout(width='100px'), style=ButtonStyle()))), VBox(children=(Button(description='Carmen', layout=Layout(width='100px'), style=ButtonStyle()), Button(description='Bolade', layout=Layout(width='100px'), style=ButtonStyle()), Button(description='Amrit', layout=Layout(width='100px'), style=ButtonStyle())))))"
      ]
     },
     "metadata": {},
     "output_type": "display_data"
    },
    {
     "data": {
      "application/vnd.jupyter.widget-view+json": {
       "model_id": "7ede15192ab9433daafde3611ea22c6a",
       "version_major": 2,
       "version_minor": 0
      },
      "text/html": [
       "<p>Failed to display Jupyter Widget of type <code>HBox</code>.</p>\n",
       "<p>\n",
       "  If you're reading this message in the Jupyter Notebook or JupyterLab Notebook, it may mean\n",
       "  that the widgets JavaScript is still loading. If this message persists, it\n",
       "  likely means that the widgets JavaScript library is either not installed or\n",
       "  not enabled. See the <a href=\"https://ipywidgets.readthedocs.io/en/stable/user_install.html\">Jupyter\n",
       "  Widgets Documentation</a> for setup instructions.\n",
       "</p>\n",
       "<p>\n",
       "  If you're reading this message in another frontend (for example, a static\n",
       "  rendering on GitHub or <a href=\"https://nbviewer.jupyter.org/\">NBViewer</a>),\n",
       "  it may mean that your frontend doesn't currently support widgets.\n",
       "</p>\n"
      ],
      "text/plain": [
       "HBox(children=(IntSlider(value=0, continuous_update=False, description='Votes', layout=Layout(width='100px'), orientation='vertical'), IntSlider(value=0, continuous_update=False, description='Votes', layout=Layout(width='100px'), orientation='vertical'), IntSlider(value=0, continuous_update=False, description='Votes', layout=Layout(width='100px'), orientation='vertical'), IntSlider(value=0, continuous_update=False, description='Votes', layout=Layout(width='100px'), orientation='vertical'), IntSlider(value=0, continuous_update=False, description='Votes', layout=Layout(width='100px'), orientation='vertical'), IntSlider(value=0, continuous_update=False, description='Votes', layout=Layout(width='100px'), orientation='vertical')))"
      ]
     },
     "metadata": {},
     "output_type": "display_data"
    },
    {
     "data": {
      "application/vnd.jupyter.widget-view+json": {
       "model_id": "d4376ae9ce554d408fb272922a890647",
       "version_major": 2,
       "version_minor": 0
      },
      "text/html": [
       "<p>Failed to display Jupyter Widget of type <code>HBox</code>.</p>\n",
       "<p>\n",
       "  If you're reading this message in the Jupyter Notebook or JupyterLab Notebook, it may mean\n",
       "  that the widgets JavaScript is still loading. If this message persists, it\n",
       "  likely means that the widgets JavaScript library is either not installed or\n",
       "  not enabled. See the <a href=\"https://ipywidgets.readthedocs.io/en/stable/user_install.html\">Jupyter\n",
       "  Widgets Documentation</a> for setup instructions.\n",
       "</p>\n",
       "<p>\n",
       "  If you're reading this message in another frontend (for example, a static\n",
       "  rendering on GitHub or <a href=\"https://nbviewer.jupyter.org/\">NBViewer</a>),\n",
       "  it may mean that your frontend doesn't currently support widgets.\n",
       "</p>\n"
      ],
      "text/plain": [
       "HBox(children=(Output(),))"
      ]
     },
     "metadata": {},
     "output_type": "display_data"
    }
   ],
   "source": [
    "from ipywidgets import Button, HBox, VBox, Text, widgets, Layout\n",
    "from IPython.display import display\n",
    "\n",
    "import itertools\n",
    "\n",
    "items_layout = Layout( width='100px')\n",
    "\n",
    "people = ['Amrit','Bolade','Carmen']             # Committee candidates.\n",
    "\n",
    "items = [Button(description=w, layout=items_layout) for w in people]  # Button for each committee member.\n",
    "perms = list(itertools.permutations(items))      # Every possible permutation of committees.\n",
    "boxes = [VBox(p) for p in perms]                 # Box for every permutation.\n",
    "\n",
    "box_layout = Layout(display='flex',\n",
    "                    flex_flow='column',\n",
    "                    align_items='stretch',\n",
    "                    border='solid',\n",
    "                    width='50%')\n",
    "\n",
    "display(HBox(boxes), layout = box_layout)\n",
    "\n",
    "sliders = [widgets.IntSlider(\n",
    "    value=0,\n",
    "    min=0,\n",
    "    max=100,\n",
    "    step=1,\n",
    "    description='Votes',\n",
    "    disabled=False,\n",
    "    continuous_update=False,\n",
    "    orientation='vertical',\n",
    "    readout=True,\n",
    "    readout_format='d',\n",
    "    layout=items_layout\n",
    ") for w in boxes]\n",
    "\n",
    "# For convenient function input.\n",
    "letters = ['a','b','c','d','e','f']\n",
    "\n",
    "# Current function for output.\n",
    "def f(a,b,c,d,e,f):\n",
    "    print('{} + {} + {} + {} + {} + {} = {}'.format(a, b, c, d, e, f, a+b+c+d+e+f))\n",
    "\n",
    "out = widgets.interactive_output(f, {letters[i]: sliders[i] for i in range(len(sliders))})\n",
    "\n",
    "display(HBox(sliders), layout = box_layout)\n",
    "display(HBox([out]))"
   ]
  },
  {
   "cell_type": "code",
   "execution_count": null,
   "metadata": {},
   "outputs": [],
   "source": []
  }
 ],
 "metadata": {
  "kernelspec": {
   "display_name": "Python 3",
   "language": "python",
   "name": "python3"
  },
  "language_info": {
   "codemirror_mode": {
    "name": "ipython",
    "version": 3
   },
   "file_extension": ".py",
   "mimetype": "text/x-python",
   "name": "python",
   "nbconvert_exporter": "python",
   "pygments_lexer": "ipython3",
   "version": "3.6.5"
  }
 },
 "nbformat": 4,
 "nbformat_minor": 2
}

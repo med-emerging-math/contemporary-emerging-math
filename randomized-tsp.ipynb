{
 "cells": [
  {
   "cell_type": "markdown",
   "metadata": {},
   "source": [
    "# Randomized Traveling Salesperson Problem - EDUC 689.99\n",
    "\n",
    "The 20 most populous metropolitan areas in Canada are:\n",
    "\n",
    "<ul>\n",
    "  <li> Toronto, ON </li>\n",
    "  <li> Montreal, QC </li>\n",
    "  <li> Vancouver, BC </li>\n",
    "  <li> Calgary, AB </li>\n",
    "  <li> Edmonton, AB </li>\n",
    "  <li> Ottawa-Gatineau, ON </li>\n",
    "  <li> Winnipeg, MB </li>\n",
    "  <li> Quebec City, QC </li>\n",
    "  <li> Hamilton, ON </li>\n",
    "  <li> Kitchener-Waterloo-Cambridge, ON </li>\n",
    "  <li> London, ON </li>\n",
    "  <li> Victoria, BC </li>\n",
    "  <li> Halifax, NS </li>\n",
    "  <li> Oshawa, ON </li>\n",
    "  <li> Windsor, ON </li>\n",
    "  <li> Saskatoon, SK </li>\n",
    "  <li> St. Catharine's-Niagara, ON </li>\n",
    "  <li> Regina, SK </li>\n",
    "  <li> St. John's, NL </li>\n",
    "  <li> Kelowna, BC </li>\n",
    "</ul>\n",
    "This notebook demonstrates the Traveling Salesperson problem (TSP) between these cities. This is done in two ways. First, the standard TSP is done $N$ times. Then, a *randomized* TSP is undertaken $N$ times. In the randomized TSP, the next city visited is the closest city 80% of the time. The other 20% of the time, the second closest city is chosen as the next destination. Both paths are plotted.\n"
   ]
  },
  {
   "cell_type": "code",
   "execution_count": 1,
   "metadata": {},
   "outputs": [],
   "source": [
    "%%capture\n",
    "# This cell magic suppresses output for this cell.\n",
    "!pip install plotly --user;"
   ]
  },
  {
   "cell_type": "code",
   "execution_count": 8,
   "metadata": {},
   "outputs": [
    {
     "data": {
      "text/html": [
       "<script>requirejs.config({paths: { 'plotly': ['https://cdn.plot.ly/plotly-latest.min']},});if(!window.Plotly) {{require(['plotly'],function(plotly) {window.Plotly=plotly;});}}</script>"
      ],
      "text/vnd.plotly.v1+html": [
       "<script>requirejs.config({paths: { 'plotly': ['https://cdn.plot.ly/plotly-latest.min']},});if(!window.Plotly) {{require(['plotly'],function(plotly) {window.Plotly=plotly;});}}</script>"
      ]
     },
     "metadata": {},
     "output_type": "display_data"
    },
    {
     "data": {
      "text/html": [
       "<script>\n",
       "code_show=true; \n",
       "function code_toggle() {\n",
       "  if (code_show) {\n",
       "    $('div.input').each(function(id) {\n",
       "      el = $(this).find('.cm-variable:first');\n",
       "      if (id == 0 || el.text() == 'hide_me') {\n",
       "        $(this).hide();\n",
       "      }\n",
       "    });\n",
       "    $('div.output_prompt').css('opacity', 0);\n",
       "  } else {\n",
       "    $('div.input').each(function(id) {\n",
       "      $(this).show();\n",
       "    });\n",
       "    $('div.output_prompt').css('opacity', 1);\n",
       "  }\n",
       "  code_show = !code_show\n",
       "} \n",
       "$( document ).ready(code_toggle);\n",
       "</script>\n",
       "Some raw code for this Jupyter notebook is hidden by default for easier reading.\n",
       "To toggle on/off the raw code, click <a href=\"javascript:code_toggle()\">here</a>."
      ],
      "text/plain": [
       "<IPython.core.display.HTML object>"
      ]
     },
     "execution_count": 8,
     "metadata": {},
     "output_type": "execute_result"
    }
   ],
   "source": [
    "from IPython.display import HTML\n",
    "import plotly.offline as py\n",
    "import plotly.graph_objs as go\n",
    "import numpy as np\n",
    "import random\n",
    "import csv\n",
    "\n",
    "py.init_notebook_mode(connected=True)\n",
    "\n",
    "hide_me = ''\n",
    "HTML('''<script>\n",
    "code_show=true; \n",
    "function code_toggle() {\n",
    "  if (code_show) {\n",
    "    $('div.input').each(function(id) {\n",
    "      el = $(this).find('.cm-variable:first');\n",
    "      if (id == 0 || el.text() == 'hide_me') {\n",
    "        $(this).hide();\n",
    "      }\n",
    "    });\n",
    "    $('div.output_prompt').css('opacity', 0);\n",
    "  } else {\n",
    "    $('div.input').each(function(id) {\n",
    "      $(this).show();\n",
    "    });\n",
    "    $('div.output_prompt').css('opacity', 1);\n",
    "  }\n",
    "  code_show = !code_show\n",
    "} \n",
    "$( document ).ready(code_toggle);\n",
    "</script>\n",
    "Some raw code for this Jupyter notebook is hidden by default for easier reading.\n",
    "To toggle on/off the raw code, click <a href=\"javascript:code_toggle()\">here</a>.''')\n",
    "\n",
    "\n",
    "# 3/8/18 For some reason I forgot to put in Victoria. I'm not going to fix it right now."
   ]
  },
  {
   "cell_type": "code",
   "execution_count": 3,
   "metadata": {},
   "outputs": [],
   "source": [
    "hide_me\n",
    "\n",
    "def read_lines(filename, skip = False):\n",
    "    \"\"\" Function to read in CSV file as numerical data. \"\"\"\n",
    "    with open(filename) as data:\n",
    "        reader = csv.reader(data)\n",
    "        if skip:  # Skip the header if it's there.\n",
    "            next(reader, None)\n",
    "            for row in reader:\n",
    "                yield [ float(i) for i in row ]\n",
    "        else:\n",
    "            for row in reader:\n",
    "                yield [ float(i) for i in row ]\n",
    "\n",
    "# Names of the cities we'll be visiting.\n",
    "city_names = ['tor','mtl','van','cgy','edm','ott','wpg','qbc','ham','kwc','ldn','hfx','osh','win','sks','stc','reg','stj','kel']\n",
    "\n",
    "city_data = [row for row in read_lines('data/city_data.csv', True)]\n",
    "\n",
    "def Cities(city_names):\n",
    "    \"\"\" Function to construct a city given the numerical data in city_data. \"\"\"\n",
    "    def City(city_names, row_index):\n",
    "        N = len(city_names)\n",
    "\n",
    "        city = {}\n",
    "        for index in range(N):\n",
    "            city[city_names[index]] = city_data[row_index][index]\n",
    "\n",
    "        return city\n",
    "\n",
    "    # This builds the dictionary of cities that we want.\n",
    "    cities = {}\n",
    "    for i in range(len(city_names)):\n",
    "        c = city_names[i]\n",
    "        cities[c] = City(city_names,i)\n",
    "\n",
    "    return cities\n",
    "\n",
    "def Coordinates(city_names):\n",
    "    \"\"\" Function to create a dictionary of dictionaries. Each dictionary \n",
    "        contains coordinates for a given city. \"\"\"\n",
    "\n",
    "    T = [i for i in read_lines('data/coordinates.csv')]\n",
    "\n",
    "    \"\"\" This line returns a dictionary with each city name as the key. Each \n",
    "        key has a dictionary as its value. This second dictionary contains\n",
    "        the coordinates for the respective city. \"\"\"\n",
    "    F = {city_names[i] : {'lat': T[i][0], 'lon': T[i][1]} for i in range(len(city_names))}\n",
    "\n",
    "    return F\n",
    "\n",
    "class Trip:\n",
    "    \"\"\" Class for performing a trip. \"\"\"\n",
    "    \n",
    "    def __init__(self, city_names, randomized):\n",
    "        self.cities = Cities(city_names)\n",
    "        self.total_distance = 0\n",
    "        self.coordinates = Coordinates(city_names)\n",
    "        self.latitudes = None\n",
    "        self.longitudes = None\n",
    "        self.randomized = randomized\n",
    "        \n",
    "        # This saves the order in which the cities were visited.\n",
    "        self.order = []\n",
    "        \n",
    "        # This saves the city names in the order in which they were visited.\n",
    "        self.cities_visited = []\n",
    "        self.cities_visited_fullnames = None\n",
    "        \n",
    "        # Lookup table for full city names. This is used to display the city name on hover during plotting.\n",
    "        self.city_lookup = {'tor': 'Toronto, ON', \n",
    "                            'mtl': 'Montreal, QC',\n",
    "                            'van': 'Vancouver, BC',\n",
    "                            'cgy': 'Calgary, AB',\n",
    "                            'edm': 'Edmonton, AB',\n",
    "                            'ott': 'Ottawa-Gatineau, ON',\n",
    "                            'wpg': 'Winnipeg, MB',\n",
    "                            'qbc': 'Quebec City, QC',\n",
    "                            'ham': 'Hamilton, ON',\n",
    "                            'kwc': 'Kitchener-Waterloo-Cambridge, ON',\n",
    "                            'ldn': 'London, ON',\n",
    "                            'hfx': 'Halifax, NS',\n",
    "                            'osh': 'Oshawa, ON',\n",
    "                            'win': 'Windsor, ON',\n",
    "                            'sks': 'Saskatoon, SK',\n",
    "                            'stc': \"St. Catharine's, ON\",\n",
    "                            'reg': 'Regina, SK',\n",
    "                            'stj': \"St. John's, NL\",\n",
    "                            'kel': 'Kelowna, BC'\n",
    "                           }\n",
    "        \n",
    "    def setup(self):\n",
    "        \"\"\" Function to select a random starting point. \"\"\"\n",
    "        self.starting_city = random.choice(list(self.cities.keys()))\n",
    "        self.cities_visited.append(self.starting_city)\n",
    "#         print(\"We're starting in \" + self.starting_city)\n",
    "        \n",
    "    def shortest(self):\n",
    "        \"\"\" Function to return the closest city. \"\"\"\n",
    "        return min(self.cities[self.starting_city], key = self.cities[self.starting_city].get)\n",
    "    \n",
    "    def second_shortest(self):\n",
    "        \"\"\" Function to return the second closest city. \"\"\"\n",
    "        values = sorted(self.cities[self.starting_city], key = self.cities[self.starting_city].get)\n",
    "        \n",
    "        if len(values) > 1:\n",
    "            return values[1]\n",
    "        else:\n",
    "            return min(self.cities[self.starting_city], key = self.cities[self.starting_city].get)\n",
    "        \n",
    "#     m1, m2 = float('inf'), float('inf')\n",
    "#     for x in values:\n",
    "#         if x <= m1:\n",
    "#             m1, m2 = x, m1\n",
    "#         elif x < m2:\n",
    "#             m2 = x\n",
    "#     return m2\n",
    "\n",
    "    def update(self):\n",
    "        \"\"\" Function to move between cities. \"\"\"\n",
    "        # We don't want the starting city to be a destination for the other cities anymore.\n",
    "        for key in self.cities.keys():\n",
    "            self.cities[key].pop(self.starting_city)\n",
    "        \n",
    "        # If we run the randomized TSP.\n",
    "        if self.randomized:\n",
    "            if self.cities[self.starting_city] is not None:\n",
    "                # Finds the second closest city to the current city 20% of the time.\n",
    "                r = random.randint(0,99)\n",
    "                \n",
    "                # 7 Aug - can put in a later patch to accept the probability as a class parameter.\n",
    "                if r < 80:\n",
    "                    closest = self.shortest()\n",
    "                else:\n",
    "                    closest = self.second_shortest()    \n",
    "        else:\n",
    "            # Finds the closest city to the current city.\n",
    "            if self.cities[self.starting_city] is not None:\n",
    "                closest = self.shortest()\n",
    "        \n",
    "        # Add to the total distance.\n",
    "        self.total_distance += self.cities[self.starting_city][closest]\n",
    "\n",
    "        # Add the coordinates of the visited city and update the starting city.\n",
    "        self.order.append(self.coordinates[self.starting_city])\n",
    "        self.starting_city = closest\n",
    "        \n",
    "        # Add the current city to the list of visited cities.\n",
    "        self.cities_visited.append(self.starting_city)\n",
    "    \n",
    "    def trip(self):\n",
    "        \"\"\" Function to carry out a complete trip using recursion. \"\"\"\n",
    "        if len(self.cities[self.starting_city].keys()) > 1:\n",
    "            self.update()\n",
    "            self.trip()\n",
    "        else:\n",
    "            # Add the coordinates of the final city and get the latitude and longitude for plotting.\n",
    "            self.order.append(self.coordinates[self.starting_city])\n",
    "            self.cities_visited.append(self.starting_city)\n",
    "            self.latitudes = [value['lat'] for value in self.order]\n",
    "            self.longitudes = [value['lon'] for value in self.order]\n",
    "            \n",
    "            self.cities_visited_fullnames = [self.city_lookup[name] for name in self.cities_visited]\n",
    "#             print('The total distance for this trip was {}.'.format(self.total_distance))\n",
    "            \n",
    "    def plot_trip(self):\n",
    "        \"\"\" Function to plot the trip interactively with plotly. \"\"\"\n",
    "        journey = [ dict(\n",
    "            type = 'scattergeo',\n",
    "            name = \"Path taken\",\n",
    "            lat = self.latitudes,\n",
    "            lon = self.longitudes,\n",
    "            hoverinfo = 'text',\n",
    "            text = self.cities_visited_fullnames,\n",
    "            mode = 'lines',\n",
    "            line = dict(\n",
    "                width = 2,\n",
    "                color = 'rgb(0,0,0)',\n",
    "            ),\n",
    "        ) ]\n",
    "\n",
    "        layout1 = dict(\n",
    "                title = 'Shortest Traveling Salesperson Trip',\n",
    "                showlegend = False,         \n",
    "                geo = dict(\n",
    "                    resolution = 50,\n",
    "                    showland = True,\n",
    "                    showlakes = True,\n",
    "                    showocean = True,\n",
    "                    landcolor = 'rgb(0, 179, 0)',\n",
    "                    lakecolor = 'rgb(214, 224, 245)',\n",
    "                    oceancolor = 'rgb(214, 224, 245)',\n",
    "                    projection = dict( type=\"mercator\" ),\n",
    "                    coastlinewidth = 1,\n",
    "                    lataxis = dict(\n",
    "                        range = [ 40, 65 ],\n",
    "                        showgrid = True,\n",
    "                        tickmode = \"linear\",\n",
    "                        dtick = 10\n",
    "                    ),\n",
    "                    lonaxis = dict(\n",
    "                        range = [-135, -45],\n",
    "                        showgrid = True,\n",
    "                        tickmode = \"linear\",\n",
    "                        dtick = 10\n",
    "                    ),\n",
    "                )\n",
    "            )\n",
    "\n",
    "        fig = dict(data = journey, layout=layout1)\n",
    "\n",
    "        py.iplot(fig, validate=False)"
   ]
  },
  {
   "cell_type": "code",
   "execution_count": 4,
   "metadata": {},
   "outputs": [],
   "source": [
    "hide_me\n",
    "def takeNtrips(N):\n",
    "    \"\"\" Take N trips and find the shortest trip distance. \"\"\"\n",
    "    # Initialize N trips.\n",
    "    trips = [Trip(city_names, False) for i in range(N)]\n",
    "    \n",
    "    for trip in trips:\n",
    "        trip.setup()\n",
    "        trip.trip()\n",
    "    \n",
    "    distances = [trip.total_distance for trip in trips]\n",
    "    \n",
    "    shortest_trip = min(distances)\n",
    "    result = trips[trip.total_distance == shortest_trip]\n",
    "    \n",
    "    print('The shortest trip was {} km.'.format(shortest_trip))\n",
    "    result.plot_trip()\n",
    "    \n",
    "def takeNtrips_randomized(N):\n",
    "    \"\"\" Take N trips and find the shortest trip distance. \"\"\"\n",
    "    # Initialize N trips.\n",
    "    trips = [Trip(city_names, True) for i in range(N)]\n",
    "    \n",
    "    for trip in trips:\n",
    "        trip.setup()\n",
    "        trip.trip()\n",
    "    \n",
    "    distances = [trip.total_distance for trip in trips]\n",
    "    \n",
    "    shortest_trip = min(distances)\n",
    "    result = trips[trip.total_distance == shortest_trip]\n",
    "    \n",
    "    print('The shortest trip was {} km.'.format(shortest_trip))\n",
    "    result.plot_trip()"
   ]
  },
  {
   "cell_type": "markdown",
   "metadata": {},
   "source": [
    "Let's start by taking 20 trips and plotting the fastest one (the least distance traveled). You can change the number of trips by changing the number in the parentheses."
   ]
  },
  {
   "cell_type": "code",
   "execution_count": 5,
   "metadata": {},
   "outputs": [
    {
     "name": "stdout",
     "output_type": "stream",
     "text": [
      "The shortest trip was 8023.0 km.\n"
     ]
    },
    {
     "data": {
      "application/vnd.plotly.v1+json": {
       "data": [
        {
         "hoverinfo": "text",
         "lat": [
          46.8,
          45.5,
          45.4,
          43.9,
          43.7,
          43.3,
          43.2,
          43.4,
          43,
          42.3,
          49.9,
          50.5,
          52.1,
          53.5,
          51.1,
          49.9,
          49.3,
          44.6,
          47.6
         ],
         "line": {
          "color": "rgb(0,0,0)",
          "width": 2
         },
         "lon": [
          -71.2,
          -73.6,
          -75.7,
          -78.9,
          -79.4,
          -79.9,
          -79.2,
          -80.5,
          -81.2,
          -83,
          -97.1,
          -104.6,
          -106.7,
          -113.5,
          -114.1,
          -119.5,
          -123.1,
          -63.6,
          -52.7
         ],
         "mode": "lines",
         "name": "Path taken",
         "text": [
          "Quebec City, QC",
          "Montreal, QC",
          "Ottawa-Gatineau, ON",
          "Oshawa, ON",
          "Toronto, ON",
          "Hamilton, ON",
          "St. Catharine's, ON",
          "Kitchener-Waterloo-Cambridge, ON",
          "London, ON",
          "Windsor, ON",
          "Winnipeg, MB",
          "Regina, SK",
          "Saskatoon, SK",
          "Edmonton, AB",
          "Calgary, AB",
          "Kelowna, BC",
          "Vancouver, BC",
          "Halifax, NS",
          "St. John's, NL",
          "St. John's, NL"
         ],
         "type": "scattergeo"
        }
       ],
       "layout": {
        "geo": {
         "coastlinewidth": 1,
         "lakecolor": "rgb(214, 224, 245)",
         "landcolor": "rgb(0, 179, 0)",
         "lataxis": {
          "dtick": 10,
          "range": [
           40,
           65
          ],
          "showgrid": true,
          "tickmode": "linear"
         },
         "lonaxis": {
          "dtick": 10,
          "range": [
           -135,
           -45
          ],
          "showgrid": true,
          "tickmode": "linear"
         },
         "oceancolor": "rgb(214, 224, 245)",
         "projection": {
          "type": "mercator"
         },
         "resolution": 50,
         "showlakes": true,
         "showland": true,
         "showocean": true
        },
        "showlegend": false,
        "title": "Shortest Traveling Salesperson Trip"
       }
      },
      "text/html": [
       "<div id=\"cdbd6f7e-9e7c-48bd-ad64-32d5a8eb8cad\" style=\"height: 525px; width: 100%;\" class=\"plotly-graph-div\"></div><script type=\"text/javascript\">require([\"plotly\"], function(Plotly) { window.PLOTLYENV=window.PLOTLYENV || {};window.PLOTLYENV.BASE_URL=\"https://plot.ly\";Plotly.newPlot(\"cdbd6f7e-9e7c-48bd-ad64-32d5a8eb8cad\", [{\"type\": \"scattergeo\", \"name\": \"Path taken\", \"lat\": [46.8, 45.5, 45.4, 43.9, 43.7, 43.3, 43.2, 43.4, 43.0, 42.3, 49.9, 50.5, 52.1, 53.5, 51.1, 49.9, 49.3, 44.6, 47.6], \"lon\": [-71.2, -73.6, -75.7, -78.9, -79.4, -79.9, -79.2, -80.5, -81.2, -83.0, -97.1, -104.6, -106.7, -113.5, -114.1, -119.5, -123.1, -63.6, -52.7], \"hoverinfo\": \"text\", \"text\": [\"Quebec City, QC\", \"Montreal, QC\", \"Ottawa-Gatineau, ON\", \"Oshawa, ON\", \"Toronto, ON\", \"Hamilton, ON\", \"St. Catharine's, ON\", \"Kitchener-Waterloo-Cambridge, ON\", \"London, ON\", \"Windsor, ON\", \"Winnipeg, MB\", \"Regina, SK\", \"Saskatoon, SK\", \"Edmonton, AB\", \"Calgary, AB\", \"Kelowna, BC\", \"Vancouver, BC\", \"Halifax, NS\", \"St. John's, NL\", \"St. John's, NL\"], \"mode\": \"lines\", \"line\": {\"width\": 2, \"color\": \"rgb(0,0,0)\"}}], {\"title\": \"Shortest Traveling Salesperson Trip\", \"showlegend\": false, \"geo\": {\"resolution\": 50, \"showland\": true, \"showlakes\": true, \"showocean\": true, \"landcolor\": \"rgb(0, 179, 0)\", \"lakecolor\": \"rgb(214, 224, 245)\", \"oceancolor\": \"rgb(214, 224, 245)\", \"projection\": {\"type\": \"mercator\"}, \"coastlinewidth\": 1, \"lataxis\": {\"range\": [40, 65], \"showgrid\": true, \"tickmode\": \"linear\", \"dtick\": 10}, \"lonaxis\": {\"range\": [-135, -45], \"showgrid\": true, \"tickmode\": \"linear\", \"dtick\": 10}}}, {\"showLink\": true, \"linkText\": \"Export to plot.ly\"})});</script>"
      ],
      "text/vnd.plotly.v1+html": [
       "<div id=\"cdbd6f7e-9e7c-48bd-ad64-32d5a8eb8cad\" style=\"height: 525px; width: 100%;\" class=\"plotly-graph-div\"></div><script type=\"text/javascript\">require([\"plotly\"], function(Plotly) { window.PLOTLYENV=window.PLOTLYENV || {};window.PLOTLYENV.BASE_URL=\"https://plot.ly\";Plotly.newPlot(\"cdbd6f7e-9e7c-48bd-ad64-32d5a8eb8cad\", [{\"type\": \"scattergeo\", \"name\": \"Path taken\", \"lat\": [46.8, 45.5, 45.4, 43.9, 43.7, 43.3, 43.2, 43.4, 43.0, 42.3, 49.9, 50.5, 52.1, 53.5, 51.1, 49.9, 49.3, 44.6, 47.6], \"lon\": [-71.2, -73.6, -75.7, -78.9, -79.4, -79.9, -79.2, -80.5, -81.2, -83.0, -97.1, -104.6, -106.7, -113.5, -114.1, -119.5, -123.1, -63.6, -52.7], \"hoverinfo\": \"text\", \"text\": [\"Quebec City, QC\", \"Montreal, QC\", \"Ottawa-Gatineau, ON\", \"Oshawa, ON\", \"Toronto, ON\", \"Hamilton, ON\", \"St. Catharine's, ON\", \"Kitchener-Waterloo-Cambridge, ON\", \"London, ON\", \"Windsor, ON\", \"Winnipeg, MB\", \"Regina, SK\", \"Saskatoon, SK\", \"Edmonton, AB\", \"Calgary, AB\", \"Kelowna, BC\", \"Vancouver, BC\", \"Halifax, NS\", \"St. John's, NL\", \"St. John's, NL\"], \"mode\": \"lines\", \"line\": {\"width\": 2, \"color\": \"rgb(0,0,0)\"}}], {\"title\": \"Shortest Traveling Salesperson Trip\", \"showlegend\": false, \"geo\": {\"resolution\": 50, \"showland\": true, \"showlakes\": true, \"showocean\": true, \"landcolor\": \"rgb(0, 179, 0)\", \"lakecolor\": \"rgb(214, 224, 245)\", \"oceancolor\": \"rgb(214, 224, 245)\", \"projection\": {\"type\": \"mercator\"}, \"coastlinewidth\": 1, \"lataxis\": {\"range\": [40, 65], \"showgrid\": true, \"tickmode\": \"linear\", \"dtick\": 10}, \"lonaxis\": {\"range\": [-135, -45], \"showgrid\": true, \"tickmode\": \"linear\", \"dtick\": 10}}}, {\"showLink\": true, \"linkText\": \"Export to plot.ly\"})});</script>"
      ]
     },
     "metadata": {},
     "output_type": "display_data"
    }
   ],
   "source": [
    "takeNtrips(20)"
   ]
  },
  {
   "cell_type": "markdown",
   "metadata": {},
   "source": [
    "Now let's compare the randomized strategy. We'll take 20 randomized TSP trips and plot the best result. Do you notice any differences?"
   ]
  },
  {
   "cell_type": "code",
   "execution_count": 7,
   "metadata": {},
   "outputs": [
    {
     "name": "stdout",
     "output_type": "stream",
     "text": [
      "The shortest trip was 9236.0 km.\n"
     ]
    },
    {
     "data": {
      "application/vnd.plotly.v1+json": {
       "data": [
        {
         "hoverinfo": "text",
         "lat": [
          46.8,
          45.5,
          45.4,
          43.9,
          43.7,
          43.3,
          43.2,
          43.4,
          42.3,
          43,
          49.9,
          50.5,
          52.1,
          53.5,
          51.1,
          49.9,
          49.3,
          44.6,
          47.6
         ],
         "line": {
          "color": "rgb(0,0,0)",
          "width": 2
         },
         "lon": [
          -71.2,
          -73.6,
          -75.7,
          -78.9,
          -79.4,
          -79.9,
          -79.2,
          -80.5,
          -83,
          -81.2,
          -97.1,
          -104.6,
          -106.7,
          -113.5,
          -114.1,
          -119.5,
          -123.1,
          -63.6,
          -52.7
         ],
         "mode": "lines",
         "name": "Path taken",
         "text": [
          "Quebec City, QC",
          "Montreal, QC",
          "Ottawa-Gatineau, ON",
          "Oshawa, ON",
          "Toronto, ON",
          "Hamilton, ON",
          "St. Catharine's, ON",
          "Kitchener-Waterloo-Cambridge, ON",
          "Windsor, ON",
          "London, ON",
          "Winnipeg, MB",
          "Regina, SK",
          "Saskatoon, SK",
          "Edmonton, AB",
          "Calgary, AB",
          "Kelowna, BC",
          "Vancouver, BC",
          "Halifax, NS",
          "St. John's, NL",
          "St. John's, NL"
         ],
         "type": "scattergeo"
        }
       ],
       "layout": {
        "geo": {
         "coastlinewidth": 1,
         "lakecolor": "rgb(214, 224, 245)",
         "landcolor": "rgb(0, 179, 0)",
         "lataxis": {
          "dtick": 10,
          "range": [
           40,
           65
          ],
          "showgrid": true,
          "tickmode": "linear"
         },
         "lonaxis": {
          "dtick": 10,
          "range": [
           -135,
           -45
          ],
          "showgrid": true,
          "tickmode": "linear"
         },
         "oceancolor": "rgb(214, 224, 245)",
         "projection": {
          "type": "mercator"
         },
         "resolution": 50,
         "showlakes": true,
         "showland": true,
         "showocean": true
        },
        "showlegend": false,
        "title": "Shortest Traveling Salesperson Trip"
       }
      },
      "text/html": [
       "<div id=\"a476150e-1596-4f07-98a9-1eb75f143901\" style=\"height: 525px; width: 100%;\" class=\"plotly-graph-div\"></div><script type=\"text/javascript\">require([\"plotly\"], function(Plotly) { window.PLOTLYENV=window.PLOTLYENV || {};window.PLOTLYENV.BASE_URL=\"https://plot.ly\";Plotly.newPlot(\"a476150e-1596-4f07-98a9-1eb75f143901\", [{\"type\": \"scattergeo\", \"name\": \"Path taken\", \"lat\": [46.8, 45.5, 45.4, 43.9, 43.7, 43.3, 43.2, 43.4, 42.3, 43.0, 49.9, 50.5, 52.1, 53.5, 51.1, 49.9, 49.3, 44.6, 47.6], \"lon\": [-71.2, -73.6, -75.7, -78.9, -79.4, -79.9, -79.2, -80.5, -83.0, -81.2, -97.1, -104.6, -106.7, -113.5, -114.1, -119.5, -123.1, -63.6, -52.7], \"hoverinfo\": \"text\", \"text\": [\"Quebec City, QC\", \"Montreal, QC\", \"Ottawa-Gatineau, ON\", \"Oshawa, ON\", \"Toronto, ON\", \"Hamilton, ON\", \"St. Catharine's, ON\", \"Kitchener-Waterloo-Cambridge, ON\", \"Windsor, ON\", \"London, ON\", \"Winnipeg, MB\", \"Regina, SK\", \"Saskatoon, SK\", \"Edmonton, AB\", \"Calgary, AB\", \"Kelowna, BC\", \"Vancouver, BC\", \"Halifax, NS\", \"St. John's, NL\", \"St. John's, NL\"], \"mode\": \"lines\", \"line\": {\"width\": 2, \"color\": \"rgb(0,0,0)\"}}], {\"title\": \"Shortest Traveling Salesperson Trip\", \"showlegend\": false, \"geo\": {\"resolution\": 50, \"showland\": true, \"showlakes\": true, \"showocean\": true, \"landcolor\": \"rgb(0, 179, 0)\", \"lakecolor\": \"rgb(214, 224, 245)\", \"oceancolor\": \"rgb(214, 224, 245)\", \"projection\": {\"type\": \"mercator\"}, \"coastlinewidth\": 1, \"lataxis\": {\"range\": [40, 65], \"showgrid\": true, \"tickmode\": \"linear\", \"dtick\": 10}, \"lonaxis\": {\"range\": [-135, -45], \"showgrid\": true, \"tickmode\": \"linear\", \"dtick\": 10}}}, {\"showLink\": true, \"linkText\": \"Export to plot.ly\"})});</script>"
      ],
      "text/vnd.plotly.v1+html": [
       "<div id=\"a476150e-1596-4f07-98a9-1eb75f143901\" style=\"height: 525px; width: 100%;\" class=\"plotly-graph-div\"></div><script type=\"text/javascript\">require([\"plotly\"], function(Plotly) { window.PLOTLYENV=window.PLOTLYENV || {};window.PLOTLYENV.BASE_URL=\"https://plot.ly\";Plotly.newPlot(\"a476150e-1596-4f07-98a9-1eb75f143901\", [{\"type\": \"scattergeo\", \"name\": \"Path taken\", \"lat\": [46.8, 45.5, 45.4, 43.9, 43.7, 43.3, 43.2, 43.4, 42.3, 43.0, 49.9, 50.5, 52.1, 53.5, 51.1, 49.9, 49.3, 44.6, 47.6], \"lon\": [-71.2, -73.6, -75.7, -78.9, -79.4, -79.9, -79.2, -80.5, -83.0, -81.2, -97.1, -104.6, -106.7, -113.5, -114.1, -119.5, -123.1, -63.6, -52.7], \"hoverinfo\": \"text\", \"text\": [\"Quebec City, QC\", \"Montreal, QC\", \"Ottawa-Gatineau, ON\", \"Oshawa, ON\", \"Toronto, ON\", \"Hamilton, ON\", \"St. Catharine's, ON\", \"Kitchener-Waterloo-Cambridge, ON\", \"Windsor, ON\", \"London, ON\", \"Winnipeg, MB\", \"Regina, SK\", \"Saskatoon, SK\", \"Edmonton, AB\", \"Calgary, AB\", \"Kelowna, BC\", \"Vancouver, BC\", \"Halifax, NS\", \"St. John's, NL\", \"St. John's, NL\"], \"mode\": \"lines\", \"line\": {\"width\": 2, \"color\": \"rgb(0,0,0)\"}}], {\"title\": \"Shortest Traveling Salesperson Trip\", \"showlegend\": false, \"geo\": {\"resolution\": 50, \"showland\": true, \"showlakes\": true, \"showocean\": true, \"landcolor\": \"rgb(0, 179, 0)\", \"lakecolor\": \"rgb(214, 224, 245)\", \"oceancolor\": \"rgb(214, 224, 245)\", \"projection\": {\"type\": \"mercator\"}, \"coastlinewidth\": 1, \"lataxis\": {\"range\": [40, 65], \"showgrid\": true, \"tickmode\": \"linear\", \"dtick\": 10}, \"lonaxis\": {\"range\": [-135, -45], \"showgrid\": true, \"tickmode\": \"linear\", \"dtick\": 10}}}, {\"showLink\": true, \"linkText\": \"Export to plot.ly\"})});</script>"
      ]
     },
     "metadata": {},
     "output_type": "display_data"
    }
   ],
   "source": [
    "takeNtrips_randomized(20)"
   ]
  },
  {
   "cell_type": "code",
   "execution_count": null,
   "metadata": {},
   "outputs": [],
   "source": []
  }
 ],
 "metadata": {
  "kernelspec": {
   "display_name": "Python 3",
   "language": "python",
   "name": "python3"
  },
  "language_info": {
   "codemirror_mode": {
    "name": "ipython",
    "version": 3
   },
   "file_extension": ".py",
   "mimetype": "text/x-python",
   "name": "python",
   "nbconvert_exporter": "python",
   "pygments_lexer": "ipython3",
   "version": "3.6.5"
  }
 },
 "nbformat": 4,
 "nbformat_minor": 2
}
